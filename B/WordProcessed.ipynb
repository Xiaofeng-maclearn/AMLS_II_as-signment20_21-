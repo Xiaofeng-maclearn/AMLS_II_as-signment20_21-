{
 "cells": [
  {
   "cell_type": "markdown",
   "metadata": {},
   "source": [
    "# Data Preprocessed"
   ]
  },
  {
   "cell_type": "markdown",
   "metadata": {},
   "source": [
    "In this code, we preprocess the twitter data so that we can make a dictionary list and form an id list for each twitter based on this dictionary list."
   ]
  },
  {
   "cell_type": "code",
   "execution_count": 1,
   "metadata": {},
   "outputs": [],
   "source": [
    "# import packages\n",
    "import numpy as np\n",
    "import pandas as pd\n",
    "import re"
   ]
  },
  {
   "cell_type": "code",
   "execution_count": 2,
   "metadata": {},
   "outputs": [
    {
     "name": "stdout",
     "output_type": "stream",
     "text": [
      "                        0            1         2  \\\n",
      "0      681563394940473347  amy schumer  negative   \n",
      "1      675847244747177984  amy schumer  negative   \n",
      "2      672827854279843840  amy schumer  negative   \n",
      "3      662755012129529858  amy schumer  negative   \n",
      "4      671502639671042048  amy schumer  negative   \n",
      "...                   ...          ...       ...   \n",
      "10547  638032969383309312         zayn  positive   \n",
      "10548  634711870570500096         zayn  positive   \n",
      "10549  637134671797690368         zayn  positive   \n",
      "10550  636413565780557824         zayn  positive   \n",
      "10551  634633336124776448         zayn  positive   \n",
      "\n",
      "                                                       3  \n",
      "0      @MargaretsBelly Amy Schumer is the stereotypic...  \n",
      "1      @dani_pitter I mean I get the hype around JLaw...  \n",
      "2      Amy Schumer at the #GQmenoftheyear2015 party i...  \n",
      "3      Amy Schumer is on Sky Atlantic doing one of th...  \n",
      "4      \"Amy Schumer may have brought us Trainwreck, b...  \n",
      "...                                                  ...  \n",
      "10547  tomorrow I've to wake up  early so Zayn's erfo...  \n",
      "10548  with Zayn gone I can now definitively say that...  \n",
      "10549  yo don't ever say that! god forbid! may it not...  \n",
      "10550  \"you may call me a bad fan but I sobbed so har...  \n",
      "10551  \"zayn's voice: c'mon guys you can do it, nobod...  \n",
      "\n",
      "[10551 rows x 4 columns]\n"
     ]
    }
   ],
   "source": [
    "# open and read the data file\n",
    "f = open(\"../Dataset/Bdata.txt\",\"r\",encoding='utf-8')\n",
    "\n",
    "result=[]\n",
    "for line in f.readlines():\n",
    "            line=line.strip().split(\"\\t\")\n",
    "            result.append(line)\n",
    "\n",
    "f.close()\n",
    "\n",
    "result=pd.DataFrame(result).dropna(axis=0)\n",
    "print(result)"
   ]
  },
  {
   "cell_type": "markdown",
   "metadata": {},
   "source": [
    "We don't need this numerical column which is a list of download id for each twitter."
   ]
  },
  {
   "cell_type": "code",
   "execution_count": 3,
   "metadata": {},
   "outputs": [
    {
     "name": "stdout",
     "output_type": "stream",
     "text": [
      "                                                 twitter      sent  \\\n",
      "0      @MargaretsBelly Amy Schumer is the stereotypic...  negative   \n",
      "1      @dani_pitter I mean I get the hype around JLaw...  negative   \n",
      "2      Amy Schumer at the #GQmenoftheyear2015 party i...  negative   \n",
      "3      Amy Schumer is on Sky Atlantic doing one of th...  negative   \n",
      "4      \"Amy Schumer may have brought us Trainwreck, b...  negative   \n",
      "...                                                  ...       ...   \n",
      "10547  tomorrow I've to wake up  early so Zayn's erfo...  positive   \n",
      "10548  with Zayn gone I can now definitively say that...  positive   \n",
      "10549  yo don't ever say that! god forbid! may it not...  positive   \n",
      "10550  \"you may call me a bad fan but I sobbed so har...  positive   \n",
      "10551  \"zayn's voice: c'mon guys you can do it, nobod...  positive   \n",
      "\n",
      "             topic  \n",
      "0      amy schumer  \n",
      "1      amy schumer  \n",
      "2      amy schumer  \n",
      "3      amy schumer  \n",
      "4      amy schumer  \n",
      "...            ...  \n",
      "10547         zayn  \n",
      "10548         zayn  \n",
      "10549         zayn  \n",
      "10550         zayn  \n",
      "10551         zayn  \n",
      "\n",
      "[10551 rows x 3 columns]\n"
     ]
    }
   ],
   "source": [
    "df = result.iloc[:,[3,2,1]]\n",
    "df.columns=['twitter','sent','topic']\n",
    "print(df)"
   ]
  },
  {
   "cell_type": "markdown",
   "metadata": {},
   "source": [
    "We treat each twitter like a short email, and use a similar way to handle twitter text. And we have to find the topic in the message."
   ]
  },
  {
   "cell_type": "code",
   "execution_count": 4,
   "metadata": {},
   "outputs": [],
   "source": [
    "def processTwitter(twitter,topic):\n",
    "    twitter = twitter.lower()\n",
    "    strinfo = re.compile(topic)\n",
    "    twitter = strinfo.sub('thistopc', twitter)\n",
    "    # put all website addresses into a same entry of dictionary\n",
    "    strinfo = re.compile('(http|https)://[^\\s]*')\n",
    "    twitter = strinfo.sub('httpaddr', twitter)\n",
    "    # put all twitter accounts into a same entry of dictionary\n",
    "    strinfo = re.compile('@[^\\s]+')\n",
    "    twitter = strinfo.sub('twitteraddr', twitter)\n",
    "    # treat all numbers equally\n",
    "    strinfo = re.compile('\\d+')\n",
    "    twitter = strinfo.sub('numbr', twitter)\n",
    "    # treat all twitter topic equally\n",
    "    strinfo = re.compile('#[^\\s]+')\n",
    "    twitter = strinfo.sub('topc', twitter)\n",
    "    return(twitter)\n",
    "#Reference：https://blog.csdn.net/weixin_36815313/article/details/105149312"
   ]
  },
  {
   "cell_type": "code",
   "execution_count": 5,
   "metadata": {},
   "outputs": [
    {
     "name": "stdout",
     "output_type": "stream",
     "text": [
      "                                                 twitter      sent  \\\n",
      "0      @MargaretsBelly Amy Schumer is the stereotypic...  negative   \n",
      "1      @dani_pitter I mean I get the hype around JLaw...  negative   \n",
      "2      Amy Schumer at the #GQmenoftheyear2015 party i...  negative   \n",
      "3      Amy Schumer is on Sky Atlantic doing one of th...  negative   \n",
      "4      \"Amy Schumer may have brought us Trainwreck, b...  negative   \n",
      "...                                                  ...       ...   \n",
      "10547  tomorrow I've to wake up  early so Zayn's erfo...  positive   \n",
      "10548  with Zayn gone I can now definitively say that...  positive   \n",
      "10549  yo don't ever say that! god forbid! may it not...  positive   \n",
      "10550  \"you may call me a bad fan but I sobbed so har...  positive   \n",
      "10551  \"zayn's voice: c'mon guys you can do it, nobod...  positive   \n",
      "\n",
      "             topic                                          Processed  \n",
      "0      amy schumer  twitteraddr thistopc is the stereotypical numb...  \n",
      "1      amy schumer  twitteraddr i mean i get the hype around jlaw....  \n",
      "2      amy schumer  thistopc at the topc party in a dress we prett...  \n",
      "3      amy schumer  thistopc is on sky atlantic doing one of the w...  \n",
      "4      amy schumer  \"thistopc may have brought us trainwreck, but ...  \n",
      "...            ...                                                ...  \n",
      "10547         zayn  tomorrow i've to wake up  early so thistopc's ...  \n",
      "10548         zayn  with thistopc gone i can now definitively say ...  \n",
      "10549         zayn  yo don't ever say that! god forbid! may it not...  \n",
      "10550         zayn  \"you may call me a bad fan but i sobbed so har...  \n",
      "10551         zayn  \"thistopc's voice: c'mon guys you can do it, n...  \n",
      "\n",
      "[10551 rows x 4 columns]\n"
     ]
    }
   ],
   "source": [
    "# start processing\n",
    "df['Processed'] = ''\n",
    "for i in range(df.shape[0]):\n",
    "    df.iloc[i,3] =  processTwitter(df.iloc[i,0],df.iloc[i,2])\n",
    "print(df)"
   ]
  },
  {
   "cell_type": "code",
   "execution_count": 6,
   "metadata": {},
   "outputs": [],
   "source": [
    "# save the processed data into a new file\n",
    "df[['Processed','sent','topic']].to_csv('processed_twitter.txt',sep='\\t',index=False)"
   ]
  },
  {
   "cell_type": "markdown",
   "metadata": {},
   "source": [
    "We pause here and generate a dictionary list based on this processed data. Now we have to do the word-id replacement."
   ]
  },
  {
   "cell_type": "code",
   "execution_count": 7,
   "metadata": {},
   "outputs": [
    {
     "name": "stdout",
     "output_type": "stream",
     "text": [
      "              word frequency\n",
      "0         thistopc     10878\n",
      "1              the      8433\n",
      "2      twitteraddr      3381\n",
      "3              and      3221\n",
      "4            numbr      3181\n",
      "...            ...       ...\n",
      "13459     misfired         1\n",
      "13460          ruc         1\n",
      "13461        newry         1\n",
      "13462       mortar         1\n",
      "13463       sobbed         1\n",
      "\n",
      "[13464 rows x 2 columns]\n"
     ]
    }
   ],
   "source": [
    "# open and read the dictionary list\n",
    "f2 = open(\"dictionary.txt\",\"r\",encoding='utf-8')\n",
    "\n",
    "result2 = []\n",
    "for line in f2.readlines():\n",
    "    line=line.strip().split(\"\\t\")\n",
    "    result2.append(line)\n",
    "\n",
    "f2.close()\n",
    "\n",
    "df2=pd.DataFrame(result2[1:]).dropna(axis=0)\n",
    "df2.columns = ['word','frequency']\n",
    "print(df2)"
   ]
  },
  {
   "cell_type": "markdown",
   "metadata": {},
   "source": [
    "As you may see, I exclude all the words with no more than 2 letters, they appear too frequently and most of them are emotionless.\n",
    "\n",
    "The dictionary list is sorted by descending frequency."
   ]
  },
  {
   "cell_type": "code",
   "execution_count": 8,
   "metadata": {},
   "outputs": [],
   "source": [
    "# find the matchup in the dictionary list\n",
    "df['text_code']=\"\"\n",
    "for i in range(df.shape[0]):\n",
    "    listOfTokens = re.split(r'\\W',df.iloc[i,3])\n",
    "    codes = np.zeros(len(listOfTokens), dtype=np.int)\n",
    "    for j in range(len(listOfTokens)):\n",
    "        token = listOfTokens[j]\n",
    "        # length 2 tokens are excluded\n",
    "        if(len(token)<3):\n",
    "            codes[j] = 0\n",
    "            continue\n",
    "        codes[j] = df2[df2['word']==token].index.tolist()[-1]+1\n",
    "    df.iloc[i,4] = codes"
   ]
  },
  {
   "cell_type": "code",
   "execution_count": 9,
   "metadata": {},
   "outputs": [
    {
     "name": "stdout",
     "output_type": "stream",
     "text": [
      "                                                 twitter      sent  \\\n",
      "0      @MargaretsBelly Amy Schumer is the stereotypic...  negative   \n",
      "1      @dani_pitter I mean I get the hype around JLaw...  negative   \n",
      "2      Amy Schumer at the #GQmenoftheyear2015 party i...  negative   \n",
      "3      Amy Schumer is on Sky Atlantic doing one of th...  negative   \n",
      "4      \"Amy Schumer may have brought us Trainwreck, b...  negative   \n",
      "...                                                  ...       ...   \n",
      "10547  tomorrow I've to wake up  early so Zayn's erfo...  positive   \n",
      "10548  with Zayn gone I can now definitively say that...  positive   \n",
      "10549  yo don't ever say that! god forbid! may it not...  positive   \n",
      "10550  \"you may call me a bad fan but I sobbed so har...  positive   \n",
      "10551  \"zayn's voice: c'mon guys you can do it, nobod...  positive   \n",
      "\n",
      "             topic                                          Processed  \\\n",
      "0      amy schumer  twitteraddr thistopc is the stereotypical numb...   \n",
      "1      amy schumer  twitteraddr i mean i get the hype around jlaw....   \n",
      "2      amy schumer  thistopc at the topc party in a dress we prett...   \n",
      "3      amy schumer  thistopc is on sky atlantic doing one of the w...   \n",
      "4      amy schumer  \"thistopc may have brought us trainwreck, but ...   \n",
      "...            ...                                                ...   \n",
      "10547         zayn  tomorrow i've to wake up  early so thistopc's ...   \n",
      "10548         zayn  with thistopc gone i can now definitively say ...   \n",
      "10549         zayn  yo don't ever say that! god forbid! may it not...   \n",
      "10550         zayn  \"you may call me a bad fan but i sobbed so har...   \n",
      "10551         zayn  \"thistopc's voice: c'mon guys you can do it, n...   \n",
      "\n",
      "                                               text_code  \n",
      "0      [3, 1, 0, 2, 5717, 31, 108, 10841, 1585, 10840...  \n",
      "1      [3, 0, 332, 0, 38, 2, 934, 280, 10838, 0, 0, 1...  \n",
      "2      [1, 0, 2, 7, 315, 0, 0, 1144, 0, 242, 125, 330...  \n",
      "3      [1, 0, 0, 1373, 4294, 253, 41, 0, 2, 363, 798,...  \n",
      "4      [0, 1, 10, 17, 712, 0, 2404, 0, 16, 14, 583, 1...  \n",
      "...                                                  ...  \n",
      "10547  [11, 0, 0, 0, 534, 0, 0, 263, 0, 1, 0, 6910, 0...  \n",
      "10548  [12, 1, 550, 0, 22, 46, 6911, 121, 14, 448, 0,...  \n",
      "10549  [0, 61, 0, 92, 121, 14, 0, 133, 6174, 0, 10, 0...  \n",
      "10550  [0, 9, 10, 335, 0, 0, 183, 284, 16, 0, 13464, ...  \n",
      "10551  [0, 1, 0, 638, 0, 0, 177, 247, 9, 22, 0, 0, 0,...  \n",
      "\n",
      "[10551 rows x 5 columns]\n"
     ]
    }
   ],
   "source": [
    "print(df)"
   ]
  },
  {
   "cell_type": "code",
   "execution_count": 10,
   "metadata": {},
   "outputs": [],
   "source": [
    "# save the id list into a new file\n",
    "df[['text_code','sent','topic']].to_csv('code.csv',index=False)"
   ]
  },
  {
   "cell_type": "code",
   "execution_count": null,
   "metadata": {},
   "outputs": [],
   "source": []
  }
 ],
 "metadata": {
  "kernelspec": {
   "display_name": "lab",
   "language": "python",
   "name": "lab"
  },
  "language_info": {
   "codemirror_mode": {
    "name": "ipython",
    "version": 3
   },
   "file_extension": ".py",
   "mimetype": "text/x-python",
   "name": "python",
   "nbconvert_exporter": "python",
   "pygments_lexer": "ipython3",
   "version": "3.6.12"
  }
 },
 "nbformat": 4,
 "nbformat_minor": 4
}
