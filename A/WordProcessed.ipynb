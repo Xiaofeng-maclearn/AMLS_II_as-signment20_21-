{
 "cells": [
  {
   "cell_type": "markdown",
   "metadata": {},
   "source": [
    "# Data Preprocessed"
   ]
  },
  {
   "cell_type": "markdown",
   "metadata": {},
   "source": [
    "In this code, we preprocess the twitter data so that we can make a dictionary list and form an id list for each twitter based on this dictionary list."
   ]
  },
  {
   "cell_type": "code",
   "execution_count": 2,
   "id": "valued-karma",
   "metadata": {},
   "outputs": [],
   "source": [
    "# import packages\n",
    "import numpy as np\n",
    "import pandas as pd\n",
    "import re"
   ]
  },
  {
   "cell_type": "code",
   "execution_count": 4,
   "id": "sought-heath",
   "metadata": {},
   "outputs": [
    {
     "name": "stdout",
     "output_type": "stream",
     "text": [
      "                       0         1  \\\n",
      "0     628949369883000832  negative   \n",
      "1     628976607420645377  negative   \n",
      "2     629023169169518592  negative   \n",
      "3     629179223232479232  negative   \n",
      "4     629186282179153920   neutral   \n",
      "...                  ...       ...   \n",
      "5995  639855845958885376  positive   \n",
      "5996  639979760735662080   neutral   \n",
      "5997  640196838260363269   neutral   \n",
      "5998  640975710354567168  positive   \n",
      "5999  641034340068143104   neutral   \n",
      "\n",
      "                                                      2  \n",
      "0     dear @Microsoft the newOoffice for Mac is grea...  \n",
      "1     @Microsoft how about you make a system that do...  \n",
      "2     I may be ignorant on this issue but... should ...  \n",
      "3     Thanks to @microsoft, I just may be switching ...  \n",
      "4     If I make a game as a #windows10 Universal App...  \n",
      "...                                                 ...  \n",
      "5995  @Racalto_SK ok good to know. Punting at MetLif...  \n",
      "5996  everyone who sat around me at metlife was so a...  \n",
      "5997  what giants or niners fans would wanna go to t...  \n",
      "5998  Anybody want a ticket for tomorrow Colombia vs...  \n",
      "5999  Mendez told me he'd drive me to MetLife on Sun...  \n",
      "\n",
      "[6000 rows x 3 columns]\n"
     ]
    }
   ],
   "source": [
    "# open and read the data file\n",
    "f = open(\"../Dataset/Adata.txt\",\"r\",encoding='utf-8')\n",
    "\n",
    "result=[]\n",
    "for line in f.readlines():\n",
    "            line=line.strip().split(\"\\t\")\n",
    "            result.append(line)\n",
    "\n",
    "f.close()\n",
    "\n",
    "result=pd.DataFrame(result).dropna(axis=0)\n",
    "print(result)"
   ]
  },
  {
   "cell_type": "markdown",
   "metadata": {},
   "source": [
    "We don't need this numerical column which is a list of download id for each twitter."
   ]
  },
  {
   "cell_type": "code",
   "execution_count": 14,
   "id": "light-liquid",
   "metadata": {},
   "outputs": [
    {
     "name": "stdout",
     "output_type": "stream",
     "text": [
      "                                                twitter      sent\n",
      "0     dear @Microsoft the newOoffice for Mac is grea...  negative\n",
      "1     @Microsoft how about you make a system that do...  negative\n",
      "2     I may be ignorant on this issue but... should ...  negative\n",
      "3     Thanks to @microsoft, I just may be switching ...  negative\n",
      "4     If I make a game as a #windows10 Universal App...   neutral\n",
      "...                                                 ...       ...\n",
      "5995  @Racalto_SK ok good to know. Punting at MetLif...  positive\n",
      "5996  everyone who sat around me at metlife was so a...   neutral\n",
      "5997  what giants or niners fans would wanna go to t...   neutral\n",
      "5998  Anybody want a ticket for tomorrow Colombia vs...  positive\n",
      "5999  Mendez told me he'd drive me to MetLife on Sun...   neutral\n",
      "\n",
      "[6000 rows x 2 columns]\n"
     ]
    }
   ],
   "source": [
    "df = result.iloc[:,[2,1]]\n",
    "df.columns=['twitter','sent']\n",
    "print(df)"
   ]
  },
  {
   "cell_type": "markdown",
   "metadata": {},
   "source": [
    "We treat each twitter like a short email, and use a similar way to handle twitter text."
   ]
  },
  {
   "cell_type": "code",
   "execution_count": 15,
   "id": "czech-smith",
   "metadata": {},
   "outputs": [],
   "source": [
    "def processTwitter(twitter):\n",
    "    # put all website addresses into a same entry of dictionary\n",
    "    strinfo = re.compile('(http|https)://[^\\s]*')\n",
    "    twitter = strinfo.sub('httpaddr', twitter)\n",
    "    # put all twitter accounts into a same entry of dictionary\n",
    "    strinfo = re.compile('@[^\\s]+')\n",
    "    twitter = strinfo.sub('twitteraddr', twitter)\n",
    "    # treat all numbers equally\n",
    "    strinfo = re.compile('\\d+')\n",
    "    twitter = strinfo.sub('numbr', twitter)\n",
    "    # treat all twitter topic equally\n",
    "    strinfo = re.compile('#[^\\s]+')\n",
    "    twitter = strinfo.sub('topc', twitter)\n",
    "    return(twitter.lower())\n",
    "#Reference：https://blog.csdn.net/weixin_36815313/article/details/105149312"
   ]
  },
  {
   "cell_type": "code",
   "execution_count": 16,
   "id": "working-saudi",
   "metadata": {},
   "outputs": [
    {
     "name": "stdout",
     "output_type": "stream",
     "text": [
      "                                                twitter      sent  \\\n",
      "0     dear @Microsoft the newOoffice for Mac is grea...  negative   \n",
      "1     @Microsoft how about you make a system that do...  negative   \n",
      "2     I may be ignorant on this issue but... should ...  negative   \n",
      "3     Thanks to @microsoft, I just may be switching ...  negative   \n",
      "4     If I make a game as a #windows10 Universal App...   neutral   \n",
      "...                                                 ...       ...   \n",
      "5995  @Racalto_SK ok good to know. Punting at MetLif...  positive   \n",
      "5996  everyone who sat around me at metlife was so a...   neutral   \n",
      "5997  what giants or niners fans would wanna go to t...   neutral   \n",
      "5998  Anybody want a ticket for tomorrow Colombia vs...  positive   \n",
      "5999  Mendez told me he'd drive me to MetLife on Sun...   neutral   \n",
      "\n",
      "                                              Processed  \n",
      "0     dear twitteraddr the newooffice for mac is gre...  \n",
      "1     twitteraddr how about you make a system that d...  \n",
      "2     i may be ignorant on this issue but... should ...  \n",
      "3     thanks to twitteraddr i just may be switching ...  \n",
      "4     if i make a game as a topc universal app. will...  \n",
      "...                                                 ...  \n",
      "5995  twitteraddr ok good to know. punting at metlif...  \n",
      "5996  everyone who sat around me at metlife was so a...  \n",
      "5997  what giants or niners fans would wanna go to t...  \n",
      "5998  anybody want a ticket for tomorrow colombia vs...  \n",
      "5999  mendez told me he'd drive me to metlife on sun...  \n",
      "\n",
      "[6000 rows x 3 columns]\n"
     ]
    }
   ],
   "source": [
    "# start processing\n",
    "df['Processed'] = ''\n",
    "for i in range(df.shape[0]):\n",
    "    df.iloc[i,2] =  processTwitter(df.iloc[i,0])\n",
    "print(df)"
   ]
  },
  {
   "cell_type": "code",
   "execution_count": 17,
   "id": "finnish-academy",
   "metadata": {},
   "outputs": [],
   "source": [
    "# save the processed data into a new file\n",
    "df[['Processed','sent']].to_csv('processed_twitter.txt',sep='\\t',index=False)"
   ]
  },
  {
   "cell_type": "markdown",
   "metadata": {},
   "source": [
    "We pause here and generate a dictionary list based on this processed data. Now we have to do the word-id replacement."
   ]
  },
  {
   "cell_type": "code",
   "execution_count": 18,
   "id": "about-bullet",
   "metadata": {},
   "outputs": [
    {
     "name": "stdout",
     "output_type": "stream",
     "text": [
      "              word frequency\n",
      "0              the      4749\n",
      "1      twitteraddr      2247\n",
      "2         httpaddr      2205\n",
      "3            numbr      2137\n",
      "4              and      1671\n",
      "...            ...       ...\n",
      "10503     multiple         1\n",
      "10504      chicken         1\n",
      "10505     moonbyul         1\n",
      "10506        pouya         1\n",
      "10507         peru         1\n",
      "\n",
      "[10508 rows x 2 columns]\n"
     ]
    }
   ],
   "source": [
    "# open and read the dictionary list\n",
    "f2 = open(\"dictionary.txt\",\"r\",encoding='utf-8')\n",
    "\n",
    "result2 = []\n",
    "for line in f2.readlines():\n",
    "    line=line.strip().split(\"\\t\")\n",
    "    result2.append(line)\n",
    "\n",
    "f2.close()\n",
    "\n",
    "df2=pd.DataFrame(result2[1:]).dropna(axis=0)\n",
    "df2.columns = ['word','frequency']\n",
    "print(df2)"
   ]
  },
  {
   "cell_type": "markdown",
   "metadata": {},
   "source": [
    "As you may see, I exclude all the words with no more than 2 letters, they appear too frequently and most of them are emotionless.\n",
    "\n",
    "The dictionary list is sorted by descending frequency."
   ]
  },
  {
   "cell_type": "code",
   "execution_count": 19,
   "id": "partial-pepper",
   "metadata": {},
   "outputs": [],
   "source": [
    "# find the matchup in the dictionary list\n",
    "df['text_code']=\"\"\n",
    "for i in range(df.shape[0]):\n",
    "    listOfTokens = re.split(r'\\W',df.iloc[i,2])\n",
    "    codes = np.zeros(len(listOfTokens), dtype=np.int)\n",
    "    for j in range(len(listOfTokens)):\n",
    "        token = listOfTokens[j]\n",
    "        # length 2 tokens are excluded\n",
    "        if(len(token)<3):\n",
    "            codes[j] = 0\n",
    "            continue\n",
    "        codes[j] = df2[df2['word']==token].index.tolist()[-1]+1\n",
    "    df.iloc[i,3] = codes"
   ]
  },
  {
   "cell_type": "code",
   "execution_count": 21,
   "id": "finnish-wings",
   "metadata": {},
   "outputs": [
    {
     "name": "stdout",
     "output_type": "stream",
     "text": [
      "                                                twitter      sent  \\\n",
      "0     dear @Microsoft the newOoffice for Mac is grea...  negative   \n",
      "1     @Microsoft how about you make a system that do...  negative   \n",
      "2     I may be ignorant on this issue but... should ...  negative   \n",
      "3     Thanks to @microsoft, I just may be switching ...  negative   \n",
      "4     If I make a game as a #windows10 Universal App...   neutral   \n",
      "...                                                 ...       ...   \n",
      "5995  @Racalto_SK ok good to know. Punting at MetLif...  positive   \n",
      "5996  everyone who sat around me at metlife was so a...   neutral   \n",
      "5997  what giants or niners fans would wanna go to t...   neutral   \n",
      "5998  Anybody want a ticket for tomorrow Colombia vs...  positive   \n",
      "5999  Mendez told me he'd drive me to MetLife on Sun...   neutral   \n",
      "\n",
      "                                              Processed  \\\n",
      "0     dear twitteraddr the newooffice for mac is gre...   \n",
      "1     twitteraddr how about you make a system that d...   \n",
      "2     i may be ignorant on this issue but... should ...   \n",
      "3     thanks to twitteraddr i just may be switching ...   \n",
      "4     if i make a game as a topc universal app. will...   \n",
      "...                                                 ...   \n",
      "5995  twitteraddr ok good to know. punting at metlif...   \n",
      "5996  everyone who sat around me at metlife was so a...   \n",
      "5997  what giants or niners fans would wanna go to t...   \n",
      "5998  anybody want a ticket for tomorrow colombia vs...   \n",
      "5999  mendez told me he'd drive me to metlife on sun...   \n",
      "\n",
      "                                              text_code  \n",
      "0     [1069, 2, 1, 6227, 7, 159, 0, 125, 5, 23, 0, 1...  \n",
      "1     [2, 82, 27, 8, 63, 0, 1654, 14, 278, 0, 990, 0...  \n",
      "2     [0, 9, 0, 3954, 0, 16, 1175, 15, 0, 0, 0, 178,...  \n",
      "3             [300, 0, 2, 0, 17, 9, 0, 4333, 103, 0, 2]  \n",
      "4     [0, 0, 63, 0, 52, 0, 0, 6, 5692, 357, 0, 19, 6...  \n",
      "...                                                 ...  \n",
      "5995  [2, 0, 75, 0, 66, 0, 3415, 0, 182, 0, 318, 0, ...  \n",
      "5996  [270, 65, 91, 281, 0, 0, 182, 20, 0, 2459, 15,...  \n",
      "5997  [44, 1062, 0, 2784, 308, 104, 280, 0, 0, 1, 53...  \n",
      "5998  [911, 58, 0, 415, 7, 11, 6207, 0, 10508, 0, 18...  \n",
      "5999  [4377, 484, 0, 0, 0, 681, 0, 0, 182, 0, 53, 0,...  \n",
      "\n",
      "[6000 rows x 4 columns]\n"
     ]
    }
   ],
   "source": [
    "print(df)"
   ]
  },
  {
   "cell_type": "code",
   "execution_count": 22,
   "id": "precious-termination",
   "metadata": {},
   "outputs": [],
   "source": [
    "# save the id list into a new file\n",
    "df[['text_code','sent']].to_csv('code.csv',index=False)"
   ]
  },
  {
   "cell_type": "code",
   "execution_count": null,
   "id": "genuine-ultimate",
   "metadata": {},
   "outputs": [],
   "source": []
  }
 ],
 "metadata": {
  "kernelspec": {
   "display_name": "lab",
   "language": "python",
   "name": "lab"
  },
  "language_info": {
   "codemirror_mode": {
    "name": "ipython",
    "version": 3
   },
   "file_extension": ".py",
   "mimetype": "text/x-python",
   "name": "python",
   "nbconvert_exporter": "python",
   "pygments_lexer": "ipython3",
   "version": "3.6.12"
  }
 },
 "nbformat": 4,
 "nbformat_minor": 5
}
